{
 "cells": [
  {
   "cell_type": "markdown",
   "metadata": {},
   "source": [
    "## Connecting to the database"
   ]
  },
  {
   "cell_type": "code",
   "execution_count": 12,
   "metadata": {},
   "outputs": [],
   "source": [
    "# Connect to the database and create a cursor\n",
    "import psycopg2\n",
    "import pandas as pd\n",
    "import numpy as np\n",
    "\n",
    "db_params = {\n",
    "    \"dbname\": \"nsf_cosea_local\",\n",
    "    \"user\": \"linnerlek\",\n",
    "    \"password\": \"\",\n",
    "    \"host\": \"localhost\", \n",
    "    \"port\": \"5432\"\n",
    "}\n",
    "\n",
    "conn = psycopg2.connect(**db_params)\n",
    "cur = conn.cursor()\n"
   ]
  },
  {
   "cell_type": "markdown",
   "metadata": {},
   "source": [
    "## Calculating Weighted Median Income"
   ]
  },
  {
   "cell_type": "code",
   "execution_count": null,
   "metadata": {},
   "outputs": [
    {
     "name": "stderr",
     "output_type": "stream",
     "text": [
      "/var/folders/z1/89p5283s11d507yd60c1dqm40000gn/T/ipykernel_35915/3011672548.py:15: UserWarning: pandas only supports SQLAlchemy connectable (engine/connection) or database string URI or sqlite3 DBAPI2 connection. Other DBAPI2 objects are not tested. Please consider using SQLAlchemy.\n",
      "  df = pd.read_sql(query, conn)\n"
     ]
    },
    {
     "name": "stdout",
     "output_type": "stream",
     "text": [
      "    UNIQUESCHOOLID  Weighed_Median_Income  Avg_median_income  \\\n",
      "0         06010103           20248.000000       23408.360197   \n",
      "1         06020103           23811.928962       22692.115728   \n",
      "2         06030302           19980.000000       21573.481766   \n",
      "3         06050189           26905.974232       31702.210411   \n",
      "4         06060199           24248.049027       29014.584508   \n",
      "..             ...                    ...                ...   \n",
      "358       07910301           19760.636964       20551.129335   \n",
      "359       07920273           26388.678523       27652.278570   \n",
      "360       78200108           33927.928335       36331.002979   \n",
      "361       78200613           26537.000000       34655.016984   \n",
      "362       78200618           27767.776971       32763.911208   \n",
      "\n",
      "     StdDev_median_income  \n",
      "0             7591.176540  \n",
      "1             4048.253395  \n",
      "2             9649.968596  \n",
      "3            27886.299641  \n",
      "4             8895.236542  \n",
      "..                    ...  \n",
      "358           8579.610815  \n",
      "359          12662.014749  \n",
      "360           9011.137193  \n",
      "361          10912.177724  \n",
      "362          15090.110718  \n",
      "\n",
      "[363 rows x 4 columns]\n"
     ]
    },
    {
     "name": "stderr",
     "output_type": "stream",
     "text": [
      "/var/folders/z1/89p5283s11d507yd60c1dqm40000gn/T/ipykernel_35915/3011672548.py:45: DeprecationWarning: DataFrameGroupBy.apply operated on the grouping columns. This behavior is deprecated, and in a future version of pandas the grouping columns will be excluded from the operation. Either pass `include_groups=False` to exclude the groupings or explicitly select the grouping columns after groupby to silence this warning.\n",
      "  school_wmi = df.groupby(\"UNIQUESCHOOLID\").apply(weighted_median_income).reset_index()\n",
      "/var/folders/z1/89p5283s11d507yd60c1dqm40000gn/T/ipykernel_35915/3011672548.py:49: DeprecationWarning: DataFrameGroupBy.apply operated on the grouping columns. This behavior is deprecated, and in a future version of pandas the grouping columns will be excluded from the operation. Either pass `include_groups=False` to exclude the groupings or explicitly select the grouping columns after groupby to silence this warning.\n",
      "  school_avg_income = df.groupby(\"UNIQUESCHOOLID\").apply(lambda g: np.average(g[\"median_income\"], weights=g[\"Total_Population\"])).reset_index()\n",
      "/var/folders/z1/89p5283s11d507yd60c1dqm40000gn/T/ipykernel_35915/3011672548.py:58: DeprecationWarning: DataFrameGroupBy.apply operated on the grouping columns. This behavior is deprecated, and in a future version of pandas the grouping columns will be excluded from the operation. Either pass `include_groups=False` to exclude the groupings or explicitly select the grouping columns after groupby to silence this warning.\n",
      "  school_std_income = df.groupby(\"UNIQUESCHOOLID\").apply(weighted_std).reset_index()\n"
     ]
    }
   ],
   "source": [
    "query = \"\"\"\n",
    "SELECT \n",
    "    cbg.\"GEOID\", \n",
    "    cbg.\"UNIQUESCHOOLID\", \n",
    "    cbg.\"Total_Population\", \n",
    "    income.\"SE_A14024_001\" AS median_income\n",
    "FROM \"2024\".tbl_cbg_finalassignment cbg\n",
    "JOIN census.household_income income\n",
    "ON cbg.\"GEOID\" = income.\"Geo_FIPS\" \n",
    "WHERE cbg.\"Total_Population\" IS NOT NULL AND income.\"SE_A14024_001\" IS NOT NULL;\n",
    "\"\"\"\n",
    "\n",
    "\n",
    "# Load data into DataFrame\n",
    "df = pd.read_sql(query, conn)\n",
    "\n",
    "# Close connection after retrieving data\n",
    "conn.close()\n",
    "\n",
    "# Ensure numeric types\n",
    "df[\"Total_Population\"] = pd.to_numeric(df[\"Total_Population\"], errors=\"coerce\")\n",
    "df[\"median_income\"] = pd.to_numeric(df[\"median_income\"], errors=\"coerce\")\n",
    "\n",
    "# Drop any rows with missing values after conversion\n",
    "df = df.dropna()\n",
    "\n",
    "# Compute Weighted Median Income per School\n",
    "def weighted_median_income(group):\n",
    "    sorted_group = group.sort_values(\"median_income\")\n",
    "    sorted_group[\"cumulative_population\"] = sorted_group[\"Total_Population\"].cumsum()\n",
    "    total_population = sorted_group[\"Total_Population\"].sum()\n",
    "\n",
    "    # Find where cumulative population crosses 50% of total\n",
    "    median_threshold = 0.5 * total_population\n",
    "    Ilow = sorted_group[sorted_group[\"cumulative_population\"] <= median_threshold].iloc[-1]\n",
    "    Ihigh = sorted_group[sorted_group[\"cumulative_population\"] > median_threshold].iloc[0]\n",
    "\n",
    "    # Compute interpolated WMI\n",
    "    WMI = Ilow[\"median_income\"] + ((median_threshold - Ilow[\"cumulative_population\"]) /\n",
    "                                    (Ihigh[\"cumulative_population\"] - Ilow[\"cumulative_population\"])) * \\\n",
    "                                    (Ihigh[\"median_income\"] - Ilow[\"median_income\"])\n",
    "    return WMI\n",
    "\n",
    "# Compute metrics per school\n",
    "school_wmi = df.groupby(\"UNIQUESCHOOLID\").apply(weighted_median_income).reset_index()\n",
    "school_wmi.columns = [\"UNIQUESCHOOLID\", \"Weighed_Median_Income\"]\n",
    "\n",
    "# Compute average median income per school (weighted mean)\n",
    "school_avg_income = df.groupby(\"UNIQUESCHOOLID\").apply(lambda g: np.average(g[\"median_income\"], weights=g[\"Total_Population\"])).reset_index()\n",
    "school_avg_income.columns = [\"UNIQUESCHOOLID\", \"Avg_median_income\"]\n",
    "\n",
    "# Compute standard deviation per school (weighted std deviation)\n",
    "def weighted_std(group):\n",
    "    mean = np.average(group[\"median_income\"], weights=group[\"Total_Population\"])\n",
    "    variance = np.average((group[\"median_income\"] - mean) ** 2, weights=group[\"Total_Population\"])\n",
    "    return np.sqrt(variance)\n",
    "\n",
    "school_std_income = df.groupby(\"UNIQUESCHOOLID\").apply(weighted_std).reset_index()\n",
    "school_std_income.columns = [\"UNIQUESCHOOLID\", \"StdDev_median_income\"]\n",
    "\n",
    "# Merge results\n",
    "final_results = school_wmi.merge(school_avg_income, on=\"UNIQUESCHOOLID\").merge(school_std_income, on=\"UNIQUESCHOOLID\")\n",
    "\n",
    "# Print the results for review\n",
    "print(final_results)\n"
   ]
  },
  {
   "cell_type": "code",
   "execution_count": null,
   "metadata": {},
   "outputs": [],
   "source": [
    "\n",
    "# Reconnect to database for inserting results\n",
    "conn = psycopg2.connect(**db_params)\n",
    "cursor = conn.cursor()\n",
    "\n",
    "# Update tbl_approvedschools with computed values\n",
    "for _, row in final_results.iterrows():\n",
    "    cursor.execute(\"\"\"\n",
    "        UPDATE \"2024\".tbl_approvedschools\n",
    "        SET \n",
    "            \"Weighed_Median_Income\" = %s,\n",
    "            \"Avg_median_income\" = %s,\n",
    "            \"StdDev_median_income\" = %s\n",
    "        WHERE \"UNIQUESCHOOLID\" = %s;\n",
    "    \"\"\", (row[\"Weighed_Median_Income\"], row[\"Avg_median_income\"], row[\"StdDev_median_income\"], row[\"UNIQUESCHOOLID\"]))\n",
    "\n",
    "# Commit changes and close connection\n",
    "conn.commit()\n",
    "cursor.close()\n",
    "conn.close()\n",
    "\n",
    "print(\"✅ Weighted Median Income calculations complete and stored in tbl_approvedschools.\")"
   ]
  }
 ],
 "metadata": {
  "kernelspec": {
   "display_name": "Python 3",
   "language": "python",
   "name": "python3"
  },
  "language_info": {
   "codemirror_mode": {
    "name": "ipython",
    "version": 3
   },
   "file_extension": ".py",
   "mimetype": "text/x-python",
   "name": "python",
   "nbconvert_exporter": "python",
   "pygments_lexer": "ipython3",
   "version": "3.13.1"
  }
 },
 "nbformat": 4,
 "nbformat_minor": 2
}
